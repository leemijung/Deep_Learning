{
  "nbformat": 4,
  "nbformat_minor": 5,
  "metadata": {
    "kernelspec": {
      "display_name": "conda_pytorch_p27",
      "language": "python",
      "name": "conda_pytorch_p27"
    },
    "language_info": {
      "codemirror_mode": {
        "name": "ipython",
        "version": 2
      },
      "file_extension": ".py",
      "mimetype": "text/x-python",
      "name": "python",
      "nbconvert_exporter": "python",
      "pygments_lexer": "ipython2",
      "version": "2.7.16"
    },
    "colab": {
      "name": "실습_01.ipynb",
      "provenance": [],
      "include_colab_link": true
    }
  },
  "cells": [
    {
      "cell_type": "markdown",
      "metadata": {
        "id": "view-in-github",
        "colab_type": "text"
      },
      "source": [
        "<a href=\"https://colab.research.google.com/github/leemijung/Deep_Learning/blob/main/%EC%8B%A4%EC%8A%B5_01.ipynb\" target=\"_parent\"><img src=\"https://colab.research.google.com/assets/colab-badge.svg\" alt=\"Open In Colab\"/></a>"
      ]
    },
    {
      "cell_type": "markdown",
      "metadata": {
        "id": "lesbian-scenario"
      },
      "source": [
        "1. 라이브러리 임포트"
      ],
      "id": "lesbian-scenario"
    },
    {
      "cell_type": "code",
      "metadata": {
        "id": "furnished-brave"
      },
      "source": [
        "import numpy as np\n",
        "import matplotlib.pyplot as plt\n",
        "%matplotlib inline\n",
        "\n",
        "import torch\n",
        "import torchvision.datasets as dset\n",
        "import torchvision.transforms as transforms"
      ],
      "id": "furnished-brave",
      "execution_count": null,
      "outputs": []
    },
    {
      "cell_type": "markdown",
      "metadata": {
        "id": "dominican-worst"
      },
      "source": [
        "2. MNIST test dataset 가져오기"
      ],
      "id": "dominican-worst"
    },
    {
      "cell_type": "code",
      "metadata": {
        "id": "green-junction",
        "outputId": "cac186b3-0b6a-4aa3-a701-1a17ba0542a1",
        "colab": {
          "referenced_widgets": [
            "33df9fea313e484b9465c8511d908af4",
            "00e4c14b610b4edcbf2ea283b8131961",
            "abb3ea359ce3420c9a8032d8806cc758",
            "04706542b7024286a0c028be456892bf"
          ]
        }
      },
      "source": [
        "# \"\": 현재 폴터에 MNIST 있음\n",
        "mnist_test=dset.MNIST(\"\", train=False, transform=transforms.ToTensor(), #test용\n",
        "                      target_transform=None, download=True)"
      ],
      "id": "green-junction",
      "execution_count": null,
      "outputs": [
        {
          "output_type": "stream",
          "text": [
            "Downloading http://yann.lecun.com/exdb/mnist/train-images-idx3-ubyte.gz to MNIST/raw/train-images-idx3-ubyte.gz\n"
          ],
          "name": "stdout"
        },
        {
          "output_type": "display_data",
          "data": {
            "application/vnd.jupyter.widget-view+json": {
              "model_id": "33df9fea313e484b9465c8511d908af4",
              "version_major": 2,
              "version_minor": 0
            },
            "text/plain": [
              "HBox(children=(IntProgress(value=1, bar_style=u'info', max=1), HTML(value=u'')))"
            ]
          },
          "metadata": {
            "tags": []
          }
        },
        {
          "output_type": "stream",
          "text": [
            "Extracting MNIST/raw/train-images-idx3-ubyte.gz to MNIST/raw\n",
            "Downloading http://yann.lecun.com/exdb/mnist/train-labels-idx1-ubyte.gz to MNIST/raw/train-labels-idx1-ubyte.gz\n"
          ],
          "name": "stdout"
        },
        {
          "output_type": "display_data",
          "data": {
            "application/vnd.jupyter.widget-view+json": {
              "model_id": "00e4c14b610b4edcbf2ea283b8131961",
              "version_major": 2,
              "version_minor": 0
            },
            "text/plain": [
              "HBox(children=(IntProgress(value=1, bar_style=u'info', max=1), HTML(value=u'')))"
            ]
          },
          "metadata": {
            "tags": []
          }
        },
        {
          "output_type": "stream",
          "text": [
            "Extracting MNIST/raw/train-labels-idx1-ubyte.gz to MNIST/raw\n",
            "Downloading http://yann.lecun.com/exdb/mnist/t10k-images-idx3-ubyte.gz to MNIST/raw/t10k-images-idx3-ubyte.gz\n"
          ],
          "name": "stdout"
        },
        {
          "output_type": "display_data",
          "data": {
            "application/vnd.jupyter.widget-view+json": {
              "model_id": "abb3ea359ce3420c9a8032d8806cc758",
              "version_major": 2,
              "version_minor": 0
            },
            "text/plain": [
              "HBox(children=(IntProgress(value=1, bar_style=u'info', max=1), HTML(value=u'')))"
            ]
          },
          "metadata": {
            "tags": []
          }
        },
        {
          "output_type": "stream",
          "text": [
            "Extracting MNIST/raw/t10k-images-idx3-ubyte.gz to MNIST/raw\n",
            "Downloading http://yann.lecun.com/exdb/mnist/t10k-labels-idx1-ubyte.gz to MNIST/raw/t10k-labels-idx1-ubyte.gz\n"
          ],
          "name": "stdout"
        },
        {
          "output_type": "display_data",
          "data": {
            "application/vnd.jupyter.widget-view+json": {
              "model_id": "04706542b7024286a0c028be456892bf",
              "version_major": 2,
              "version_minor": 0
            },
            "text/plain": [
              "HBox(children=(IntProgress(value=1, bar_style=u'info', max=1), HTML(value=u'')))"
            ]
          },
          "metadata": {
            "tags": []
          }
        },
        {
          "output_type": "stream",
          "text": [
            "Extracting MNIST/raw/t10k-labels-idx1-ubyte.gz to MNIST/raw\n",
            "Processing...\n",
            "Done!\n"
          ],
          "name": "stdout"
        }
      ]
    },
    {
      "cell_type": "markdown",
      "metadata": {
        "id": "reported-vegetable"
      },
      "source": [
        "3. 대략적인 데이터 형태"
      ],
      "id": "reported-vegetable"
    },
    {
      "cell_type": "code",
      "metadata": {
        "id": "associate-baking",
        "outputId": "f0a54120-99e2-408f-f270-52bf0e0b2a44"
      },
      "source": [
        "print \"mnist_test 길이:\", len(mnist_test)\n",
        "\n",
        "#데이터 하나의 형태\n",
        "image, label=mnist_test.__getitem__(0) #0번째 데이터\n",
        "print \"image data 형태:\", image.size()\n",
        "print \"label:\", label\n",
        "\n",
        "#그리기\n",
        "img=image.numpy() #image 타입을 numpy 타입으로 변환 (그리기 위해) (1, 28, 28)\n",
        "plt.title(\"label: %d\" %label)\n",
        "plt.imshow(img[0], cmap='gray')\n",
        "plt.show()"
      ],
      "id": "associate-baking",
      "execution_count": null,
      "outputs": [
        {
          "output_type": "stream",
          "text": [
            "mnist_test 길이: 10000\n",
            "image data 형태: torch.Size([1, 28, 28])\n",
            "label: 7\n"
          ],
          "name": "stdout"
        },
        {
          "output_type": "display_data",
          "data": {
            "image/png": "[encoded data removed]",
            "text/plain": [
              "<Figure size 432x288 with 1 Axes>"
            ]
          },
          "metadata": {
            "tags": [],
            "needs_background": "light"
          }
        }
      ]
    },
    {
      "cell_type": "markdown",
      "metadata": {
        "id": "interstate-sustainability"
      },
      "source": [
        "4. sigmiod, softmax 함수 구현"
      ],
      "id": "interstate-sustainability"
    },
    {
      "cell_type": "code",
      "metadata": {
        "id": "sustained-windsor"
      },
      "source": [
        "def sigmoid(x):\n",
        "    return 1/(1+np.exp(-x))\n",
        "\n",
        "def softmax(x):\n",
        "    e_x=np.exp(x)\n",
        "    return e_x/np.exp(e_x)"
      ],
      "id": "sustained-windsor",
      "execution_count": null,
      "outputs": []
    },
    {
      "cell_type": "markdown",
      "metadata": {
        "id": "funky-yeast"
      },
      "source": [
        "5. 모델 선언"
      ],
      "id": "funky-yeast"
    },
    {
      "cell_type": "code",
      "metadata": {
        "id": "interpreted-bankruptcy"
      },
      "source": [
        "# Multi-layered perceptron\n",
        "# # of units in each later: [28*28 -- 256 -- 128 -- 10]\n",
        "class MyMLP:\n",
        "    def __init__(self, n_input, n_hidden1, n_hidden2, n_output):\n",
        "        # W^(1): layer1 -> layer2 에 매핑되는 가중치\n",
        "        self.W1=np.zeros((n_hidden1, n_input), dtype=np.float32) #W1(256, 28*28)\n",
        "        self.b1=np.zeros((n_hidden1), dtype=np.float32)\n",
        "        \n",
        "        self.W2=np.zeros((n_hidden2, n_hidden1), dtype=np.float32) #W2(128, 256)\n",
        "        self.b2=np.zeros((n_hidden2), dtype=np.float32)\n",
        "        \n",
        "        self.W3=np.zeros((n_output, n_hidden2), dtype=np.float32) #W3(10, 128)\n",
        "        self.b3=np.zeros((n_output), dtype=np.float32)\n",
        "        \n",
        "    def __call__(self, x):\n",
        "        # (1, 28, 28) -> (28, 28)\n",
        "        x=x.reshape(-1) # 일렬로 피기\n",
        "        \n",
        "        h1=sigmoid(np.dot(self.W1, x)+self.b1) # W1(256, 28*28), x(28*28), b1(256) -> h1(256)\n",
        "        h2=np.dot(self.W2, h1)+self.b2 # W1(128, 256), x(256), b2(128) -> h2(128)\n",
        "        out=np.dot(self.W3, h2)+self.b3 # W1(10, 128), x(128), b1(10) -> h1(10)\n",
        "        \n",
        "        return softmax(out) # (10)\n",
        "    "
      ],
      "id": "interpreted-bankruptcy",
      "execution_count": null,
      "outputs": []
    },
    {
      "cell_type": "markdown",
      "metadata": {
        "id": "descending-macedonia"
      },
      "source": [
        "6. 모델 생성"
      ],
      "id": "descending-macedonia"
    },
    {
      "cell_type": "code",
      "metadata": {
        "id": "incorporated-leader"
      },
      "source": [
        "model=MyMLP(28*28, 256, 128, 10)"
      ],
      "id": "incorporated-leader",
      "execution_count": null,
      "outputs": []
    },
    {
      "cell_type": "code",
      "metadata": {
        "id": "hispanic-forge",
        "outputId": "881b2960-3844-48d8-b533-26a6a7e5e293"
      },
      "source": [
        "print model.W1.shape, model.b1.shape\n",
        "print model.W2.shape, model.b2.shape\n",
        "print model.W3.shape, model.b3.shape"
      ],
      "id": "hispanic-forge",
      "execution_count": null,
      "outputs": [
        {
          "output_type": "stream",
          "text": [
            "(256, 784) (256,)\n",
            "(128, 256) (128,)\n",
            "(10, 128) (10,)\n"
          ],
          "name": "stdout"
        }
      ]
    },
    {
      "cell_type": "markdown",
      "metadata": {
        "id": "continental-exploration"
      },
      "source": [
        "7. 미리 학습된 weight 로드"
      ],
      "id": "continental-exploration"
    },
    {
      "cell_type": "code",
      "metadata": {
        "id": "restricted-hypothetical",
        "outputId": "4e69b031-ca51-4d84-e09b-adad006f9d6a"
      },
      "source": [
        "weights=np.load('./nets/mlp_weight.npz')\n",
        "model.W1=weights['W1']\n",
        "model.b1=weights['b1']\n",
        "model.W2=weights['W2']\n",
        "model.b2=weights['b2']\n",
        "model.W3=weights['W3']\n",
        "model.b3=weights['b3']\n",
        "\n",
        "print model.W1.shape, model.b1.shape\n",
        "print model.W2.shape, model.b2.shape\n",
        "print model.W3.shape, model.b3.shape"
      ],
      "id": "restricted-hypothetical",
      "execution_count": null,
      "outputs": [
        {
          "output_type": "stream",
          "text": [
            "(256, 784) (256,)\n",
            "(128, 256) (128,)\n",
            "(10, 128) (10,)\n"
          ],
          "name": "stdout"
        }
      ]
    },
    {
      "cell_type": "markdown",
      "metadata": {
        "id": "colonial-wheat"
      },
      "source": [
        "8. 테스트"
      ],
      "id": "colonial-wheat"
    },
    {
      "cell_type": "code",
      "metadata": {
        "id": "regional-detail",
        "outputId": "a97dea13-5b56-418d-ad3e-889cb2fa2d2d"
      },
      "source": [
        "mysum=0\n",
        "\n",
        "m=len(mnist_test) #m은 만개\n",
        "cnt=0 #카운드\n",
        "for i in range(m):\n",
        "    image, label=mnist_test.__getitem__(i) #0번째 데이터\n",
        "    output=model(image)\n",
        "    \n",
        "    if(i%1000==0):\n",
        "        img=image.numpy() #image 타입을 numpy 타입으로 변환 (1, 28, 28)\n",
        "        pred_label=np.argmax(output)\n",
        "        plt.title(\"pred: %d, label: %d\" %(pred_label, label) )\n",
        "        plt.imshow(img[0], cmap='gray')\n",
        "        plt.show()\n",
        "    \n",
        "    cnt+=1\n",
        "    mysum+=(np.argmax(output)==label)\n",
        "print \"정확도: %.2f\" %((float(mysum)/cnt)*100.0)"
      ],
      "id": "regional-detail",
      "execution_count": null,
      "outputs": [
        {
          "output_type": "display_data",
          "data": {
            "image/png": "[encoded data removed]",
            "text/plain": [
              "<Figure size 432x288 with 1 Axes>"
            ]
          },
          "metadata": {
            "tags": [],
            "needs_background": "light"
          }
        },
        {
          "output_type": "display_data",
          "data": {
            "image/png": "[encoded data removed]",
            "text/plain": [
              "<Figure size 432x288 with 1 Axes>"
            ]
          },
          "metadata": {
            "tags": [],
            "needs_background": "light"
          }
        },
        {
          "output_type": "display_data",
          "data": {
            "image/png": "[encoded data removed]",
            "text/plain": [
              "<Figure size 432x288 with 1 Axes>"
            ]
          },
          "metadata": {
            "tags": [],
            "needs_background": "light"
          }
        },
        {
          "output_type": "display_data",
          "data": {
            "image/png": "[encoded data removed]",
            "text/plain": [
              "<Figure size 432x288 with 1 Axes>"
            ]
          },
          "metadata": {
            "tags": [],
            "needs_background": "light"
          }
        },
        {
          "output_type": "display_data",
          "data": {
            "image/png": "[encoded data removed]",
            "text/plain": [
              "<Figure size 432x288 with 1 Axes>"
            ]
          },
          "metadata": {
            "tags": [],
            "needs_background": "light"
          }
        },
        {
          "output_type": "display_data",
          "data": {
            "image/png": "[encoded data removed]",
            "text/plain": [
              "<Figure size 432x288 with 1 Axes>"
            ]
          },
          "metadata": {
            "tags": [],
            "needs_background": "light"
          }
        },
        {
          "output_type": "display_data",
          "data": {
            "image/png": "[encoded data removed]",
            "text/plain": [
              "<Figure size 432x288 with 1 Axes>"
            ]
          },
          "metadata": {
            "tags": [],
            "needs_background": "light"
          }
        },
        {
          "output_type": "display_data",
          "data": {
            "image/png": "[encoded data removed]",
            "text/plain": [
              "<Figure size 432x288 with 1 Axes>"
            ]
          },
          "metadata": {
            "tags": [],
            "needs_background": "light"
          }
        },
        {
          "output_type": "display_data",
          "data": {
            "image/png": "[encoded data removed]",
            "text/plain": [
              "<Figure size 432x288 with 1 Axes>"
            ]
          },
          "metadata": {
            "tags": [],
            "needs_background": "light"
          }
        },
        {
          "output_type": "display_data",
          "data": {
            "image/png": "[encoded data removed]",
            "text/plain": [
              "<Figure size 432x288 with 1 Axes>"
            ]
          },
          "metadata": {
            "tags": [],
            "needs_background": "light"
          }
        },
        {
          "output_type": "stream",
          "text": [
            "정확도: 0.23\n"
          ],
          "name": "stdout"
        }
      ]
    }
  ]
}