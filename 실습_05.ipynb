{
  "nbformat": 4,
  "nbformat_minor": 5,
  "metadata": {
    "kernelspec": {
      "display_name": "conda_pytorch_p27",
      "language": "python",
      "name": "conda_pytorch_p27"
    },
    "language_info": {
      "codemirror_mode": {
        "name": "ipython",
        "version": 2
      },
      "file_extension": ".py",
      "mimetype": "text/x-python",
      "name": "python",
      "nbconvert_exporter": "python",
      "pygments_lexer": "ipython2",
      "version": "2.7.16"
    },
    "colab": {
      "name": "실습_05.ipynb",
      "provenance": [],
      "include_colab_link": true
    }
  },
  "cells": [
    {
      "cell_type": "markdown",
      "metadata": {
        "id": "view-in-github",
        "colab_type": "text"
      },
      "source": [
        "<a href=\"https://colab.research.google.com/github/leemijung/Deep_Learning/blob/main/%EC%8B%A4%EC%8A%B5_05.ipynb\" target=\"_parent\"><img src=\"https://colab.research.google.com/assets/colab-badge.svg\" alt=\"Open In Colab\"/></a>"
      ]
    },
    {
      "cell_type": "markdown",
      "metadata": {
        "id": "cdac595d"
      },
      "source": [
        "https://github.com/leemijung"
      ],
      "id": "cdac595d"
    },
    {
      "cell_type": "markdown",
      "metadata": {
        "id": "93bedc81"
      },
      "source": [
        "![%EC%BA%A1%EC%B2%98.GIF](attachment:%EC%BA%A1%EC%B2%98.GIF)"
      ],
      "id": "93bedc81"
    },
    {
      "cell_type": "markdown",
      "metadata": {
        "id": "f4a3f769"
      },
      "source": [
        "Load packages"
      ],
      "id": "f4a3f769"
    },
    {
      "cell_type": "code",
      "metadata": {
        "id": "c4c5a8c0"
      },
      "source": [
        "import torch\n",
        "import torch.nn as nn\n",
        "import torchvision.datasets as dset\n",
        "import torchvision.transforms as transforms\n",
        "from torch.utils.data import DataLoader\n",
        "from torch.autograd import Variable\n",
        "import matplotlib.pyplot as plt\n",
        "%matplotlib inline"
      ],
      "id": "c4c5a8c0",
      "execution_count": null,
      "outputs": []
    },
    {
      "cell_type": "markdown",
      "metadata": {
        "id": "7eb55d9d"
      },
      "source": [
        "MNIST train, test dataset 가져오기"
      ],
      "id": "7eb55d9d"
    },
    {
      "cell_type": "code",
      "metadata": {
        "id": "44733687"
      },
      "source": [
        "mnist_train=dset.MNIST(\"\", train=True, transform=transforms.ToTensor(), target_transform=None, download=True)\n",
        "mnist_test=dset.MNIST(\"\", train=False, transform=transforms.ToTensor(), target_transform=None, download=True)"
      ],
      "id": "44733687",
      "execution_count": null,
      "outputs": []
    },
    {
      "cell_type": "markdown",
      "metadata": {
        "id": "691caaa1"
      },
      "source": [
        "대략적인 데이터 형태"
      ],
      "id": "691caaa1"
    },
    {
      "cell_type": "code",
      "metadata": {
        "id": "fdb616b9",
        "outputId": "6a400167-5b79-47f0-9d69-980e9ee651c1"
      },
      "source": [
        "print \"mnist_train 길이: \", len(mnist_train)\n",
        "print \"mnist_test 길이: \", len(mnist_test)\n",
        "\n",
        "# 데이터 하나 형태\n",
        "image, label=mnist_train.__getitem__(0) # 1번째 데이터\n",
        "print \"image data 형태: \", image.size()\n",
        "print \"label: \", label\n",
        "\n",
        "# 그리기\n",
        "img=image.numpy()  #image 타입을 numpy로 변환 (3, 32, 32)\n",
        "plt.title(\"label: %d\" %label)\n",
        "plt.imshow(img[0], cmap=\"gray\")\n",
        "plt.show()"
      ],
      "id": "fdb616b9",
      "execution_count": null,
      "outputs": [
        {
          "output_type": "stream",
          "text": [
            "mnist_train 길이:  60000\n",
            "mnist_test 길이:  10000\n",
            "image data 형태:  torch.Size([1, 28, 28])\n",
            "label:  5\n"
          ],
          "name": "stdout"
        },
        {
          "output_type": "display_data",
          "data": {
            "image/png": "[encoded data removed]",
            "text/plain": [
              "<Figure size 432x288 with 1 Axes>"
            ]
          },
          "metadata": {
            "tags": [],
            "needs_background": "light"
          }
        }
      ]
    },
    {
      "cell_type": "markdown",
      "metadata": {
        "id": "ce3c55a2"
      },
      "source": [
        "MNIST data 띄워보기"
      ],
      "id": "ce3c55a2"
    },
    {
      "cell_type": "code",
      "metadata": {
        "id": "eeffe5bd",
        "outputId": "dff3af1e-c6af-409f-f0bb-5b424140a55e"
      },
      "source": [
        "print(mnist_train[0][1])  # label\n",
        "print(mnist_test[0][0].size())  #image\n",
        "\n",
        "for i in range(3):\n",
        "    img=mnist_train[i][0].numpy()\n",
        "    print(mnist_train[i][1])\n",
        "    plt.imshow(img[0], cmap='gray')\n",
        "    plt.show()"
      ],
      "id": "eeffe5bd",
      "execution_count": null,
      "outputs": [
        {
          "output_type": "stream",
          "text": [
            "5\n",
            "torch.Size([1, 28, 28])\n",
            "5\n"
          ],
          "name": "stdout"
        },
        {
          "output_type": "display_data",
          "data": {
            "image/png": "[encoded data removed]",
            "text/plain": [
              "<Figure size 432x288 with 1 Axes>"
            ]
          },
          "metadata": {
            "tags": [],
            "needs_background": "light"
          }
        },
        {
          "output_type": "stream",
          "text": [
            "0\n"
          ],
          "name": "stdout"
        },
        {
          "output_type": "display_data",
          "data": {
            "image/png": "[encoded data removed]",
            "text/plain": [
              "<Figure size 432x288 with 1 Axes>"
            ]
          },
          "metadata": {
            "tags": [],
            "needs_background": "light"
          }
        },
        {
          "output_type": "stream",
          "text": [
            "4\n"
          ],
          "name": "stdout"
        },
        {
          "output_type": "display_data",
          "data": {
            "image/png": "[encoded data removed]",
            "text/plain": [
              "<Figure size 432x288 with 1 Axes>"
            ]
          },
          "metadata": {
            "tags": [],
            "needs_background": "light"
          }
        }
      ]
    },
    {
      "cell_type": "markdown",
      "metadata": {
        "id": "2a6a6759"
      },
      "source": [
        "convolution 하나 띄워보기"
      ],
      "id": "2a6a6759"
    },
    {
      "cell_type": "code",
      "metadata": {
        "id": "d26a394e",
        "outputId": "994fefea-e395-493b-d0c1-d2f1098f3480"
      },
      "source": [
        "# mnist 의 첫번째 이미지, 라벨 가져오기\n",
        "image, label=mnist_train[0]\n",
        "# view: tensor의 사이즈 조절, -1: 해당 타원 차원 확장시켜라\n",
        "# [1, 28, 28]->[1, 1, 28, 28]\n",
        "image=image.view(-1, image.size()[0], image.size()[1], image.size()[2])\n",
        "print(image.size())\n",
        "\n",
        "print label\n",
        "\n",
        "# convolution filter 정의\n",
        "conv_layer=nn.Conv2d(in_channels=1, out_channels=3, kernel_size=3, padding=1)\n",
        "# image 에 filter 적용\n",
        "output=conv_layer(Variable(image))\n",
        "print(output.size())\n",
        "\n",
        "for i in range(3):\n",
        "    plt.imshow(output[0, i, :, :].data.numpy(), cmap='gray')\n",
        "    plt.show()"
      ],
      "id": "d26a394e",
      "execution_count": null,
      "outputs": [
        {
          "output_type": "stream",
          "text": [
            "torch.Size([1, 1, 28, 28])\n",
            "5\n",
            "torch.Size([1, 3, 28, 28])\n"
          ],
          "name": "stdout"
        },
        {
          "output_type": "display_data",
          "data": {
            "image/png": "[encoded data removed]",
            "text/plain": [
              "<Figure size 432x288 with 1 Axes>"
            ]
          },
          "metadata": {
            "tags": [],
            "needs_background": "light"
          }
        },
        {
          "output_type": "display_data",
          "data": {
            "image/png": "[encoded data removed]",
            "text/plain": [
              "<Figure size 432x288 with 1 Axes>"
            ]
          },
          "metadata": {
            "tags": [],
            "needs_background": "light"
          }
        },
        {
          "output_type": "display_data",
          "data": {
            "image/png": "[encoded data removed]",
            "text/plain": [
              "<Figure size 432x288 with 1 Axes>"
            ]
          },
          "metadata": {
            "tags": [],
            "needs_background": "light"
          }
        }
      ]
    },
    {
      "cell_type": "markdown",
      "metadata": {
        "id": "3b260266"
      },
      "source": [
        "![%EC%BA%A1%EC%B2%98.GIF](attachment:%EC%BA%A1%EC%B2%98.GIF)"
      ],
      "id": "3b260266"
    },
    {
      "cell_type": "markdown",
      "metadata": {
        "id": "4f4ddb95"
      },
      "source": [
        "CNN 만들기\n",
        "\n",
        "train, test data 가져오기"
      ],
      "id": "4f4ddb95"
    },
    {
      "cell_type": "code",
      "metadata": {
        "id": "2986e876"
      },
      "source": [
        "import numpy as np\n",
        "import torch.optim as optim\n",
        "\n",
        "batch_size=16\n",
        "learning_rate=0.0002\n",
        "num_epoch=10"
      ],
      "id": "2986e876",
      "execution_count": null,
      "outputs": []
    },
    {
      "cell_type": "code",
      "metadata": {
        "id": "3f80e3dd"
      },
      "source": [
        "# 후에 학습시킬 때 batch_size 단위로 학습시킴\n",
        "\n",
        "train_loader=torch.utils.data.DataLoader(list(mnist_train)[:batch_size*100], batch_size=batch_size, shuffle=True, num_workers=2, drop_last=True)  # batch_size 만큼 나눌 때 나머지는 버린다\n",
        "test_loader=torch.utils.data.DataLoader((mnist_test), batch_size=batch_size, shuffle=False, num_workers=2, drop_last=True)"
      ],
      "id": "3f80e3dd",
      "execution_count": null,
      "outputs": []
    },
    {
      "cell_type": "markdown",
      "metadata": {
        "id": "250f0d00"
      },
      "source": [
        "CNN 클래스 만들기 (모델 만들기)"
      ],
      "id": "250f0d00"
    },
    {
      "cell_type": "code",
      "metadata": {
        "id": "68c6e8af"
      },
      "source": [
        "class CNN(nn.Module):  # nn.Module을 상속받음\n",
        "    def __init__(self):\n",
        "        super(CNN, self).__init__()  # 28 * 28\n",
        "        self.layer=nn.Sequential(\n",
        "            nn.Conv2d(1,16,5,padding=2),\n",
        "            nn.ReLU(),\n",
        "\n",
        "            nn.Conv2d(16,32,5,padding=2),  # 28 * 28\n",
        "            nn.ReLU(),\n",
        "            nn.MaxPool2d(2,2),  # 28 * 28 -> 14 * 14\n",
        "            \n",
        "            nn.Conv2d(32,64,5,padding=2),  # 14 * 14\n",
        "            nn.ReLU(),\n",
        "            nn.MaxPool2d(2,2)  # 14 * 14 -> 7 * 7\n",
        "        )\n",
        "        self.fc_layer=nn.Sequential(\n",
        "            nn.Linear(64*7*7, 100),\n",
        "            nn.ReLU(),\n",
        "            nn.Linear(100,10)\n",
        "        )\n",
        "    \n",
        "    def forward(self, x):\n",
        "        out=self.layer(x)\n",
        "        out=out.view(batch_size, -1)\n",
        "        out=self.fc_layer(out)\n",
        "        return out\n",
        "    \n",
        "model=CNN() #.cuda()"
      ],
      "id": "68c6e8af",
      "execution_count": null,
      "outputs": []
    },
    {
      "cell_type": "markdown",
      "metadata": {
        "id": "e9cb242e"
      },
      "source": [
        "* 파라미터 개수 구하기"
      ],
      "id": "e9cb242e"
    },
    {
      "cell_type": "markdown",
      "metadata": {
        "id": "54e59fad"
      },
      "source": [
        "![%EC%BA%A1%EC%B2%98.GIF](attachment:%EC%BA%A1%EC%B2%98.GIF)"
      ],
      "id": "54e59fad"
    },
    {
      "cell_type": "code",
      "metadata": {
        "id": "4b1583b8",
        "outputId": "31539cfe-8d42-45ac-ebcd-a11d322302bb"
      },
      "source": [
        "# 파라미터 체크하기\n",
        "for parameter in model.parameters():\n",
        "    #print(parameter)\n",
        "    print(parameter.shape)"
      ],
      "id": "4b1583b8",
      "execution_count": null,
      "outputs": [
        {
          "output_type": "stream",
          "text": [
            "torch.Size([16, 1, 5, 5])\n",
            "torch.Size([16])\n",
            "torch.Size([32, 16, 5, 5])\n",
            "torch.Size([32])\n",
            "torch.Size([64, 32, 5, 5])\n",
            "torch.Size([64])\n",
            "torch.Size([100, 3136])\n",
            "torch.Size([100])\n",
            "torch.Size([10, 100])\n",
            "torch.Size([10])\n"
          ],
          "name": "stdout"
        }
      ]
    },
    {
      "cell_type": "code",
      "metadata": {
        "id": "a90ed187"
      },
      "source": [
        "# loss function, optimizer 선언\n",
        "loss_func=nn.CrossEntropyLoss()\n",
        "optimizer=torch.optim.Adam(model.parameters(), lr=learning_rate)"
      ],
      "id": "a90ed187",
      "execution_count": null,
      "outputs": []
    },
    {
      "cell_type": "markdown",
      "metadata": {
        "id": "c1b791d4"
      },
      "source": [
        "optimization"
      ],
      "id": "c1b791d4"
    },
    {
      "cell_type": "code",
      "metadata": {
        "id": "9bb240b4",
        "outputId": "b0fe871b-13cb-472a-e011-f0d481d31173"
      },
      "source": [
        "# 학습\n",
        "for i in range(num_epoch):\n",
        "    for j,[image, label] in enumerate(train_loader):\n",
        "        x=Variable(image) #.cuda()\n",
        "        y_=Variable(label) #.cuda()\n",
        "        \n",
        "        optimizer.zero_grad()  # optimizer 안에서 이전 gradient 들을 초기화\n",
        "        output=model.forward(x)\n",
        "        loss=loss_func(output, y_)\n",
        "        loss.backward()  # gradient 계산\n",
        "        optimizer.step()  # parameter 업데이트\n",
        "        \n",
        "        if j%50==0:\n",
        "            print(loss, j, i)"
      ],
      "id": "9bb240b4",
      "execution_count": null,
      "outputs": [
        {
          "output_type": "stream",
          "text": [
            "(tensor(2.3175, grad_fn=<NllLossBackward>), 0, 0)\n",
            "(tensor(1.7815, grad_fn=<NllLossBackward>), 50, 0)\n",
            "(tensor(0.6281, grad_fn=<NllLossBackward>), 0, 1)\n",
            "(tensor(1.1442, grad_fn=<NllLossBackward>), 50, 1)\n",
            "(tensor(0.7335, grad_fn=<NllLossBackward>), 0, 2)\n",
            "(tensor(0.2904, grad_fn=<NllLossBackward>), 50, 2)\n",
            "(tensor(0.3372, grad_fn=<NllLossBackward>), 0, 3)\n",
            "(tensor(1.1675, grad_fn=<NllLossBackward>), 50, 3)\n",
            "(tensor(0.2609, grad_fn=<NllLossBackward>), 0, 4)\n",
            "(tensor(0.1112, grad_fn=<NllLossBackward>), 50, 4)\n",
            "(tensor(0.0620, grad_fn=<NllLossBackward>), 0, 5)\n",
            "(tensor(0.2750, grad_fn=<NllLossBackward>), 50, 5)\n",
            "(tensor(0.0228, grad_fn=<NllLossBackward>), 0, 6)\n",
            "(tensor(0.0541, grad_fn=<NllLossBackward>), 50, 6)\n",
            "(tensor(0.0106, grad_fn=<NllLossBackward>), 0, 7)\n",
            "(tensor(0.0241, grad_fn=<NllLossBackward>), 50, 7)\n",
            "(tensor(0.0237, grad_fn=<NllLossBackward>), 0, 8)\n",
            "(tensor(0.0738, grad_fn=<NllLossBackward>), 50, 8)\n",
            "(tensor(0.0742, grad_fn=<NllLossBackward>), 0, 9)\n",
            "(tensor(0.1794, grad_fn=<NllLossBackward>), 50, 9)\n"
          ],
          "name": "stdout"
        }
      ]
    },
    {
      "cell_type": "code",
      "metadata": {
        "id": "0a1da5c8",
        "outputId": "11297b64-2dd3-4082-a1ee-fe9fb3bfad24"
      },
      "source": [
        "# 모델 저장시키기\n",
        "torch.save(model, 'nets/mycnn_model_%d.pkl'%(num_epoch))"
      ],
      "id": "0a1da5c8",
      "execution_count": null,
      "outputs": [
        {
          "output_type": "stream",
          "text": [
            "/home/ec2-user/anaconda3/envs/pytorch_p27/lib/python2.7/site-packages/torch/serialization.py:360: UserWarning: Couldn't retrieve source code for container of type CNN. It won't be checked for correctness upon loading.\n",
            "  \"type \" + obj.__name__ + \". It won't be checked \"\n"
          ],
          "name": "stderr"
        }
      ]
    },
    {
      "cell_type": "code",
      "metadata": {
        "id": "f8c3a78d",
        "outputId": "cc77e8d7-ff1a-4aee-e1d0-3154612711e9"
      },
      "source": [
        "try:\n",
        "    # 미리 학습시킨 네트워크의 파라미터 집합 [피클]이라 발음\n",
        "    model=torch.load('nets/mycnn_model_10.pkl')\n",
        "    print(\"model restored\")\n",
        "except:\n",
        "    print(\"model not restored\")"
      ],
      "id": "f8c3a78d",
      "execution_count": null,
      "outputs": [
        {
          "output_type": "stream",
          "text": [
            "model restored\n"
          ],
          "name": "stdout"
        }
      ]
    },
    {
      "cell_type": "code",
      "metadata": {
        "id": "652057ab"
      },
      "source": [
        "def ComputeAccr(dloader, imodel):\n",
        "    correct=0\n",
        "    total=0\n",
        "    \n",
        "    for j, [imgs, labels] in enumerate(dloader):  # batch_size 만큼\n",
        "        img=Variable(imgs) #x\n",
        "        label=Variable(labels)           #y\n",
        "        # .cuda() : GPU에 로드되기 위함. 만약 GPU가 설정되어 있다면 에러남\n",
        "        \n",
        "        \n",
        "        output=imodel.forward(img) #forward prop\n",
        "        _, output_index=torch.max(output, 1) #값들중 가장 큰값의 레이블을 넣어줘!\n",
        "        \n",
        "        total+=label.size(0) #1024개로 이루어진 y(정답레이블)\n",
        "        correct+=(output_index==label).sum().float() #y와 y^이 같으면 correct+1\n",
        "    print(\"Accuracy of Test Data: {}\".format(100*correct/total))"
      ],
      "id": "652057ab",
      "execution_count": null,
      "outputs": []
    },
    {
      "cell_type": "code",
      "metadata": {
        "id": "5e41c76c",
        "outputId": "d63d1497-751b-46f0-af58-750dcc394335"
      },
      "source": [
        "ComputeAccr(test_loader, model)"
      ],
      "id": "5e41c76c",
      "execution_count": null,
      "outputs": [
        {
          "output_type": "stream",
          "text": [
            "Accuracy of Test Data: 93.7300033569\n"
          ],
          "name": "stdout"
        }
      ]
    }
  ]
}